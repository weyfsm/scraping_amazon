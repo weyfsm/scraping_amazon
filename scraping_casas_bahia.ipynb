{
 "cells": [
  {
   "cell_type": "code",
   "execution_count": 24,
   "metadata": {},
   "outputs": [],
   "source": [
    "from webdriver_manager.chrome import ChromeDriverManager\n",
    "from selenium import webdriver\n",
    "from selenium.webdriver.support.ui import WebDriverWait\n",
    "from selenium.webdriver.common.by import By\n",
    "from webdriver_manager.chrome import ChromeDriverManager\n",
    "from selenium.webdriver.support import expected_conditions as EC"
   ]
  },
  {
   "cell_type": "code",
   "execution_count": 25,
   "metadata": {
    "scrolled": true
   },
   "outputs": [
    {
     "name": "stderr",
     "output_type": "stream",
     "text": [
      "[WDM] - \n",
      "\n",
      "[WDM] - ====== WebDriver manager ======\n",
      "[WDM] - Current google-chrome version is 95.0.4638\n",
      "[WDM] - Get LATEST driver version for 95.0.4638\n",
      "[WDM] - Driver [C:\\Users\\weyde\\.wdm\\drivers\\chromedriver\\win32\\95.0.4638.17\\chromedriver.exe] found in cache\n"
     ]
    }
   ],
   "source": [
    "\n",
    "url = 'https://www.casasbahia.com.br/notebook/b'\n",
    "driver = webdriver.Chrome(ChromeDriverManager().install())\n",
    "driver.get(url)\n",
    "\n",
    "xpath = '//*[@id=\"__next\"]/div[2]/div/div/div[5]/div[2]/div/section/div[4]/div/div/div/button'\n",
    "\n",
    "try:\n",
    "    driver.find_element_by_xpath(xpath).click()\n",
    "except:\n",
    "    print('Erro: Elemento não foi encontrado. Certifique-se de que o XPath está correto')\n",
    "\n",
    "for _ in range(0,12):\n",
    "        element = WebDriverWait(driver, 15).until(\n",
    "                EC.presence_of_element_located((By.XPATH, xpath))\n",
    "        ).click()\n",
    "               "
   ]
  },
  {
   "cell_type": "code",
   "execution_count": 26,
   "metadata": {},
   "outputs": [],
   "source": [
    "precos = driver.find_elements_by_class_name('ProductPrice__PriceValue-sc-1tzw2we-6')\n",
    "names = driver.find_elements_by_class_name('ProductCard__Title-sc-2vuvzo-0')\n",
    "ratingValue = driver.find_elements_by_xpath(\"//meta[@itemprop='ratingValue']\")\n",
    "reviewCount = driver.find_elements_by_xpath(\"//meta[@itemprop='reviewCount']\")\n",
    "\n",
    "itens = []\n",
    "for nome, n_aval, aval, preco in zip(names, reviewCount, ratingValue, precos):\n",
    "    item = {'nome': nome.text,\n",
    "            \"num_avali\": n_aval.get_attribute(\"content\"),\n",
    "            'avali': aval.get_attribute(\"content\"),\n",
    "            'preco': preco.text.split(' ')[1].replace('.','').replace(',','.'),\n",
    "                    }\n",
    "    itens.append(item)"
   ]
  },
  {
   "cell_type": "code",
   "execution_count": 27,
   "metadata": {
    "collapsed": true
   },
   "outputs": [
    {
     "data": {
      "text/html": [
       "<div>\n",
       "<style scoped>\n",
       "    .dataframe tbody tr th:only-of-type {\n",
       "        vertical-align: middle;\n",
       "    }\n",
       "\n",
       "    .dataframe tbody tr th {\n",
       "        vertical-align: top;\n",
       "    }\n",
       "\n",
       "    .dataframe thead th {\n",
       "        text-align: right;\n",
       "    }\n",
       "</style>\n",
       "<table border=\"1\" class=\"dataframe\">\n",
       "  <thead>\n",
       "    <tr style=\"text-align: right;\">\n",
       "      <th></th>\n",
       "      <th>nome</th>\n",
       "      <th>num_avali</th>\n",
       "      <th>avali</th>\n",
       "      <th>preco</th>\n",
       "    </tr>\n",
       "  </thead>\n",
       "  <tbody>\n",
       "    <tr>\n",
       "      <th>0</th>\n",
       "      <td>Notebook Samsung Dual Core 4GB 500GB Tela Full...</td>\n",
       "      <td>272</td>\n",
       "      <td>4.5</td>\n",
       "      <td>2599.00</td>\n",
       "    </tr>\n",
       "    <tr>\n",
       "      <th>1</th>\n",
       "      <td>Notebook Positivo Intel Atom Quad Core 4GB 64G...</td>\n",
       "      <td>494</td>\n",
       "      <td>4.5</td>\n",
       "      <td>1599.00</td>\n",
       "    </tr>\n",
       "    <tr>\n",
       "      <th>2</th>\n",
       "      <td>Notebook 2 em 1 Positivo Dual Core 4GB 64GB eM...</td>\n",
       "      <td>387</td>\n",
       "      <td>4.5</td>\n",
       "      <td>1699.00</td>\n",
       "    </tr>\n",
       "    <tr>\n",
       "      <th>3</th>\n",
       "      <td>Notebook Positivo Intel Atom Quad Core 4GB 128...</td>\n",
       "      <td>510</td>\n",
       "      <td>4.5</td>\n",
       "      <td>1749.00</td>\n",
       "    </tr>\n",
       "    <tr>\n",
       "      <th>4</th>\n",
       "      <td>Notebook Positivo Dual Core 4GB 128GB SSD Tela...</td>\n",
       "      <td>218</td>\n",
       "      <td>4.5</td>\n",
       "      <td>1999.00</td>\n",
       "    </tr>\n",
       "    <tr>\n",
       "      <th>...</th>\n",
       "      <td>...</td>\n",
       "      <td>...</td>\n",
       "      <td>...</td>\n",
       "      <td>...</td>\n",
       "    </tr>\n",
       "    <tr>\n",
       "      <th>72</th>\n",
       "      <td>Notebook Dell Core i5-1135G7 8GB 256GB SSD Pla...</td>\n",
       "      <td>54</td>\n",
       "      <td>5.0</td>\n",
       "      <td>3399.00</td>\n",
       "    </tr>\n",
       "    <tr>\n",
       "      <th>73</th>\n",
       "      <td>Notebook Dell Pentium Gold 4GB 128GB SSD Tela ...</td>\n",
       "      <td>3</td>\n",
       "      <td>5.0</td>\n",
       "      <td>3399.00</td>\n",
       "    </tr>\n",
       "    <tr>\n",
       "      <th>74</th>\n",
       "      <td>Notebook Acer ASPIRE 3 A315-34-C6ZS Intel Cele...</td>\n",
       "      <td>24</td>\n",
       "      <td>4.5</td>\n",
       "      <td>1741.90</td>\n",
       "    </tr>\n",
       "    <tr>\n",
       "      <th>75</th>\n",
       "      <td>Notebook VAIO Core i5-8250U 12GB 1TB Tela Full...</td>\n",
       "      <td>0</td>\n",
       "      <td>0</td>\n",
       "      <td>4699.00</td>\n",
       "    </tr>\n",
       "    <tr>\n",
       "      <th>76</th>\n",
       "      <td>Notebook VAIO Core i3-1005G1 4GB 1TB Tela 15.6...</td>\n",
       "      <td>40</td>\n",
       "      <td>4.5</td>\n",
       "      <td>4099.00</td>\n",
       "    </tr>\n",
       "  </tbody>\n",
       "</table>\n",
       "<p>77 rows × 4 columns</p>\n",
       "</div>"
      ],
      "text/plain": [
       "                                                 nome num_avali avali    preco\n",
       "0   Notebook Samsung Dual Core 4GB 500GB Tela Full...       272   4.5  2599.00\n",
       "1   Notebook Positivo Intel Atom Quad Core 4GB 64G...       494   4.5  1599.00\n",
       "2   Notebook 2 em 1 Positivo Dual Core 4GB 64GB eM...       387   4.5  1699.00\n",
       "3   Notebook Positivo Intel Atom Quad Core 4GB 128...       510   4.5  1749.00\n",
       "4   Notebook Positivo Dual Core 4GB 128GB SSD Tela...       218   4.5  1999.00\n",
       "..                                                ...       ...   ...      ...\n",
       "72  Notebook Dell Core i5-1135G7 8GB 256GB SSD Pla...        54   5.0  3399.00\n",
       "73  Notebook Dell Pentium Gold 4GB 128GB SSD Tela ...         3   5.0  3399.00\n",
       "74  Notebook Acer ASPIRE 3 A315-34-C6ZS Intel Cele...        24   4.5  1741.90\n",
       "75  Notebook VAIO Core i5-8250U 12GB 1TB Tela Full...         0     0  4699.00\n",
       "76  Notebook VAIO Core i3-1005G1 4GB 1TB Tela 15.6...        40   4.5  4099.00\n",
       "\n",
       "[77 rows x 4 columns]"
      ]
     },
     "execution_count": 27,
     "metadata": {},
     "output_type": "execute_result"
    }
   ],
   "source": [
    "dataset=pd.DataFrame(itens)\n",
    "dataset"
   ]
  },
  {
   "cell_type": "code",
   "execution_count": null,
   "metadata": {},
   "outputs": [],
   "source": [
    "\n"
   ]
  },
  {
   "cell_type": "code",
   "execution_count": null,
   "metadata": {},
   "outputs": [],
   "source": []
  }
 ],
 "metadata": {
  "kernelspec": {
   "display_name": "Python 3",
   "language": "python",
   "name": "python3"
  },
  "language_info": {
   "codemirror_mode": {
    "name": "ipython",
    "version": 3
   },
   "file_extension": ".py",
   "mimetype": "text/x-python",
   "name": "python",
   "nbconvert_exporter": "python",
   "pygments_lexer": "ipython3",
   "version": "3.7.6"
  }
 },
 "nbformat": 4,
 "nbformat_minor": 5
}
