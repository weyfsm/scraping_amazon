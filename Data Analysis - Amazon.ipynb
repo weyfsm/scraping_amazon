{
 "cells": [
  {
   "cell_type": "code",
   "execution_count": 106,
   "metadata": {},
   "outputs": [],
   "source": [
    "import pandas as pd\n",
    "import matplotlib.pyplot as plt\n",
    "import numpy as np"
   ]
  },
  {
   "cell_type": "code",
   "execution_count": 4,
   "metadata": {},
   "outputs": [],
   "source": [
    "dataset=pd.read_csv('./data1272.csv',sep=';')"
   ]
  },
  {
   "cell_type": "code",
   "execution_count": 20,
   "metadata": {},
   "outputs": [],
   "source": [
    "#Eliminando as srt 'None'\n",
    "dataset=dataset.mask(dataset.eq('None')).dropna()"
   ]
  },
  {
   "cell_type": "code",
   "execution_count": 19,
   "metadata": {},
   "outputs": [
    {
     "name": "stderr",
     "output_type": "stream",
     "text": [
      "C:\\Users\\weyde\\anaconda3\\lib\\site-packages\\pandas\\core\\ops\\array_ops.py:253: FutureWarning: elementwise comparison failed; returning scalar instead, but in the future will perform elementwise comparison\n",
      "  res_values = method(rvalues)\n"
     ]
    }
   ],
   "source": [
    "#Convertendo os valores de str para float\n",
    "dataset['valor']=dataset['Valor'].astype(float)"
   ]
  },
  {
   "cell_type": "code",
   "execution_count": 37,
   "metadata": {},
   "outputs": [],
   "source": [
    "datageral=dataset[['Nome','valor']]"
   ]
  },
  {
   "cell_type": "code",
   "execution_count": 123,
   "metadata": {},
   "outputs": [],
   "source": [
    "data=datageral[datageral['Nome'].str.contains(\"Notebook\")]\n",
    "datalenovo=data[data['Nome'].str.contains(\"Lenovo\")]\n",
    "datasamsung=data[data['Nome'].str.contains(\"Samsung\")]\n",
    "dataacer=data[data['Nome'].str.contains(\"Acer\")]\n",
    "datadell=data[data['Nome'].str.contains(\"Dell\")]\n",
    "datapositivo=data[data['Nome'].str.contains(\"Positivo\")]\n",
    "datamultilaser=data[data['Nome'].str.contains(\"Multilaser\")]\n",
    "datahp=data[data['Nome'].str.contains(\"Hp\")]\n",
    "datavaio=data[data['Nome'].str.contains(\"Vaio\")]\n",
    "datalg=data[data['Nome'].str.contains(\"LG\")]\n",
    "dataasus=data[data['Nome'].str.contains(\"ASUS\")]\n",
    "data.to_csv('./dataamazon.csv',sep=';',index=False,encoding=('utf-8-sig'))"
   ]
  },
  {
   "cell_type": "code",
   "execution_count": 121,
   "metadata": {},
   "outputs": [
    {
     "data": {
      "text/html": [
       "<div>\n",
       "<style scoped>\n",
       "    .dataframe tbody tr th:only-of-type {\n",
       "        vertical-align: middle;\n",
       "    }\n",
       "\n",
       "    .dataframe tbody tr th {\n",
       "        vertical-align: top;\n",
       "    }\n",
       "\n",
       "    .dataframe thead th {\n",
       "        text-align: right;\n",
       "    }\n",
       "</style>\n",
       "<table border=\"1\" class=\"dataframe\">\n",
       "  <thead>\n",
       "    <tr style=\"text-align: right;\">\n",
       "      <th></th>\n",
       "      <th>Marcas</th>\n",
       "      <th>Preço Médio</th>\n",
       "      <th>Qtd. de Produtos</th>\n",
       "    </tr>\n",
       "  </thead>\n",
       "  <tbody>\n",
       "    <tr>\n",
       "      <th>0</th>\n",
       "      <td>GERAL</td>\n",
       "      <td>7822.21</td>\n",
       "      <td>1042</td>\n",
       "    </tr>\n",
       "    <tr>\n",
       "      <th>1</th>\n",
       "      <td>Lenovo</td>\n",
       "      <td>5254.30</td>\n",
       "      <td>104</td>\n",
       "    </tr>\n",
       "    <tr>\n",
       "      <th>2</th>\n",
       "      <td>Samsung</td>\n",
       "      <td>5915.13</td>\n",
       "      <td>12</td>\n",
       "    </tr>\n",
       "    <tr>\n",
       "      <th>3</th>\n",
       "      <td>Acer</td>\n",
       "      <td>7930.91</td>\n",
       "      <td>288</td>\n",
       "    </tr>\n",
       "    <tr>\n",
       "      <th>4</th>\n",
       "      <td>Dell</td>\n",
       "      <td>6521.42</td>\n",
       "      <td>170</td>\n",
       "    </tr>\n",
       "    <tr>\n",
       "      <th>5</th>\n",
       "      <td>Positivo</td>\n",
       "      <td>2131.82</td>\n",
       "      <td>29</td>\n",
       "    </tr>\n",
       "    <tr>\n",
       "      <th>6</th>\n",
       "      <td>Multilaser</td>\n",
       "      <td>1888.97</td>\n",
       "      <td>14</td>\n",
       "    </tr>\n",
       "    <tr>\n",
       "      <th>7</th>\n",
       "      <td>Hp</td>\n",
       "      <td>11618.06</td>\n",
       "      <td>127</td>\n",
       "    </tr>\n",
       "    <tr>\n",
       "      <th>8</th>\n",
       "      <td>Vaio</td>\n",
       "      <td>6262.50</td>\n",
       "      <td>57</td>\n",
       "    </tr>\n",
       "    <tr>\n",
       "      <th>9</th>\n",
       "      <td>LG</td>\n",
       "      <td>8120.64</td>\n",
       "      <td>2</td>\n",
       "    </tr>\n",
       "    <tr>\n",
       "      <th>10</th>\n",
       "      <td>ASUS</td>\n",
       "      <td>9183.57</td>\n",
       "      <td>32</td>\n",
       "    </tr>\n",
       "  </tbody>\n",
       "</table>\n",
       "</div>"
      ],
      "text/plain": [
       "        Marcas  Preço Médio  Qtd. de Produtos\n",
       "0        GERAL      7822.21              1042\n",
       "1       Lenovo      5254.30               104\n",
       "2      Samsung      5915.13                12\n",
       "3         Acer      7930.91               288\n",
       "4         Dell      6521.42               170\n",
       "5     Positivo      2131.82                29\n",
       "6   Multilaser      1888.97                14\n",
       "7           Hp     11618.06               127\n",
       "8         Vaio      6262.50                57\n",
       "9           LG      8120.64                 2\n",
       "10        ASUS      9183.57                32"
      ]
     },
     "execution_count": 121,
     "metadata": {},
     "output_type": "execute_result"
    }
   ],
   "source": [
    "marcas=['GERAL','Lenovo','Samsung','Acer','Dell','Positivo','Multilaser', 'Hp','Vaio','LG','ASUS']\n",
    "mediamarcas=[float(data.mean()),float(datalenovo.mean()),float(datasamsung.mean()),float(dataacer.mean()),float(datadell.mean()),float(datapositivo.mean()), float(datamultilaser.mean()),float(datahp.mean()),float(datavaio.mean()),float(datalg.mean()),float(dataasus.mean())]\n",
    "quantidademarca=[len(data),len(datalenovo),len(datasamsung),len(dataacer),len(datadell),len(datapositivo),len(datamultilaser),len(datahp),len(datavaio),len(datalg),len(dataasus)]\n",
    "dictmarcas = {'Marcas':marcas, 'Preço Médio':mediamarcas,'Qtd. de Produtos':quantidademarca}\n",
    "medias=pd.DataFrame(dictmarcas).round(2)\n",
    "medias.to_csv('./medias.csv',sep=';',index=False,encoding=('utf-8-sig'))\n",
    "medias"
   ]
  },
  {
   "cell_type": "code",
   "execution_count": 124,
   "metadata": {
    "scrolled": true
   },
   "outputs": [
    {
     "data": {
      "image/png": "[encoded data removed]",
      "text/plain": [
       "<Figure size 864x360 with 1 Axes>"
      ]
     },
     "metadata": {
      "needs_background": "light"
     },
     "output_type": "display_data"
    }
   ],
   "source": [
    "plt.figure(figsize = (12, 5))\n",
    "plt.bar(marcas, mediamarcas, color='red')\n",
    "plt.xlabel(\"Marcas de Notebooks\")\n",
    "plt.ylabel(\"Média de Preços (R$)\")\n",
    "plt.title(\"Preço Médio por Marca\")\n",
    "plt.savefig('precomedio.png')"
   ]
  },
  {
   "cell_type": "code",
   "execution_count": null,
   "metadata": {},
   "outputs": [],
   "source": []
  }
 ],
 "metadata": {
  "kernelspec": {
   "display_name": "Python 3",
   "language": "python",
   "name": "python3"
  },
  "language_info": {
   "codemirror_mode": {
    "name": "ipython",
    "version": 3
   },
   "file_extension": ".py",
   "mimetype": "text/x-python",
   "name": "python",
   "nbconvert_exporter": "python",
   "pygments_lexer": "ipython3",
   "version": "3.7.6"
  }
 },
 "nbformat": 4,
 "nbformat_minor": 4
}
