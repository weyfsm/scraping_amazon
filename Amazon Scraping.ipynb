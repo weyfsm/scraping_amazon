{
 "cells": [
  {
   "cell_type": "code",
   "execution_count": 182,
   "metadata": {},
   "outputs": [],
   "source": [
    "from urllib.request import urlopen,urlretrieve,Request\n",
    "from bs4 import BeautifulSoup\n",
    "import pandas as pd\n",
    "import requests"
   ]
  },
  {
   "cell_type": "code",
   "execution_count": 186,
   "metadata": {},
   "outputs": [],
   "source": [
    "cards=[]\n",
    "for i in range(100):\n",
    "    url='https://www.amazon.com.br/s?k=notebook&i=computers&rh=n%3A16364755011&page='+str(i+1)+'&__mk_pt_BR=%C3%85M%C3%85%C5%BD%C3%95%C3%91&qid=1633879188&ref=sr_pg_2'\n",
    "    headers = {'User-Agent':'Mozilla/5.0 (Windows NT 10.0; Win64; x64) AppleWebKit/537.36 (KHTML, like Gecko) Chrome/94.0.4606.81 Safari/537.36'}\n",
    "    req = Request(url, headers = headers)\n",
    "    response = urlopen(req)\n",
    "    html=response.read().decode('utf-8')\n",
    "    notebook_amazon=BeautifulSoup(html,'html.parser')\n",
    "    anuncios_notebook=notebook_amazon.find('div',class_='s-main-slot s-result-list s-search-results sg-row').findAll('div', {'data-component-type':'s-search-result'})\n",
    "    for anuncios in anuncios_notebook:\n",
    "        card={}\n",
    "\n",
    "        #Nomes\n",
    "        card['Nome']=anuncios.find('span', class_=\"a-size-base-plus a-color-base a-text-normal\").getText()\n",
    "\n",
    "        card['Valor']=str(anuncios.find('span', class_=\"a-offscreen\")).split()[-1].replace('</span>','')\n",
    "        cards.append(card)"
   ]
  },
  {
   "cell_type": "code",
   "execution_count": 184,
   "metadata": {
    "scrolled": true
   },
   "outputs": [
    {
     "data": {
      "text/html": [
       "<div>\n",
       "<style scoped>\n",
       "    .dataframe tbody tr th:only-of-type {\n",
       "        vertical-align: middle;\n",
       "    }\n",
       "\n",
       "    .dataframe tbody tr th {\n",
       "        vertical-align: top;\n",
       "    }\n",
       "\n",
       "    .dataframe thead th {\n",
       "        text-align: right;\n",
       "    }\n",
       "</style>\n",
       "<table border=\"1\" class=\"dataframe\">\n",
       "  <thead>\n",
       "    <tr style=\"text-align: right;\">\n",
       "      <th></th>\n",
       "      <th>Nome</th>\n",
       "      <th>Valor</th>\n",
       "    </tr>\n",
       "  </thead>\n",
       "  <tbody>\n",
       "    <tr>\n",
       "      <th>0</th>\n",
       "      <td>Notebook Gateway Ultra Slim Laptop, 14,1\" IPS ...</td>\n",
       "      <td>5.879,49</td>\n",
       "    </tr>\n",
       "    <tr>\n",
       "      <th>1</th>\n",
       "      <td>Notebook Gateway ultrafino para laptop, 14,1 p...</td>\n",
       "      <td>5.012,14</td>\n",
       "    </tr>\n",
       "    <tr>\n",
       "      <th>2</th>\n",
       "      <td>Houshome GLX253 Laptop de 15,6 polegadas Ultra...</td>\n",
       "      <td>5.356,87</td>\n",
       "    </tr>\n",
       "    <tr>\n",
       "      <th>3</th>\n",
       "      <td>Notebook Lenovo Ultrafino IdeaPad S145, AMD Ry...</td>\n",
       "      <td>2.999,00</td>\n",
       "    </tr>\n",
       "    <tr>\n",
       "      <th>4</th>\n",
       "      <td>Notebook Lenovo Ultrafino IdeaPad 3i, Intel Co...</td>\n",
       "      <td>3.199,90</td>\n",
       "    </tr>\n",
       "    <tr>\n",
       "      <th>...</th>\n",
       "      <td>...</td>\n",
       "      <td>...</td>\n",
       "    </tr>\n",
       "    <tr>\n",
       "      <th>2695</th>\n",
       "      <td>Queenser Laptop de 14 polegadas Intel Celeron ...</td>\n",
       "      <td>None</td>\n",
       "    </tr>\n",
       "    <tr>\n",
       "      <th>2696</th>\n",
       "      <td>Queenser Laptop de 14,1 polegadas Processador ...</td>\n",
       "      <td>None</td>\n",
       "    </tr>\n",
       "    <tr>\n",
       "      <th>2697</th>\n",
       "      <td>Queenser 15,6 polegadas de metal fino e leve, ...</td>\n",
       "      <td>None</td>\n",
       "    </tr>\n",
       "    <tr>\n",
       "      <th>2698</th>\n",
       "      <td>Queenser Laptop de negócios portátil de 15,6 p...</td>\n",
       "      <td>None</td>\n",
       "    </tr>\n",
       "    <tr>\n",
       "      <th>2699</th>\n",
       "      <td>Queenser Laptop de 14,1 polegadas Processador</td>\n",
       "      <td>None</td>\n",
       "    </tr>\n",
       "  </tbody>\n",
       "</table>\n",
       "<p>2700 rows × 2 columns</p>\n",
       "</div>"
      ],
      "text/plain": [
       "                                                   Nome     Valor\n",
       "0     Notebook Gateway Ultra Slim Laptop, 14,1\" IPS ...  5.879,49\n",
       "1     Notebook Gateway ultrafino para laptop, 14,1 p...  5.012,14\n",
       "2     Houshome GLX253 Laptop de 15,6 polegadas Ultra...  5.356,87\n",
       "3     Notebook Lenovo Ultrafino IdeaPad S145, AMD Ry...  2.999,00\n",
       "4     Notebook Lenovo Ultrafino IdeaPad 3i, Intel Co...  3.199,90\n",
       "...                                                 ...       ...\n",
       "2695  Queenser Laptop de 14 polegadas Intel Celeron ...      None\n",
       "2696  Queenser Laptop de 14,1 polegadas Processador ...      None\n",
       "2697  Queenser 15,6 polegadas de metal fino e leve, ...      None\n",
       "2698  Queenser Laptop de negócios portátil de 15,6 p...      None\n",
       "2699      Queenser Laptop de 14,1 polegadas Processador      None\n",
       "\n",
       "[2700 rows x 2 columns]"
      ]
     },
     "execution_count": 184,
     "metadata": {},
     "output_type": "execute_result"
    }
   ],
   "source": [
    "dataset=pd.DataFrame(cards)\n",
    "dataset"
   ]
  },
  {
   "cell_type": "markdown",
   "metadata": {},
   "source": [
    "https://www.amazon.com.br/s?k=notebooks&__mk_pt_BR=%C3%85M%C3%85%C5%BD%C3%95%C3%91&qid=1633877650&ref=sr_pg_3\n",
    "https://www.amazon.com.br/s?k=notebooks&page=2&__mk_pt_BR=%C3%85M%C3%85%C5%BD%C3%95%C3%91&qid=1633877671&ref=sr_pg_2\n",
    "    https://www.amazon.com.br/s?k=notebook&rh=p_36%3A80000-&__mk_pt_BR=%C3%85M%C3%85%C5%BD%C3%95%C3%91&qid=1633611548&rnid=16365456011&ref=sr_pg_1\n",
    "        'https://www.amazon.com.br/s?k=notebook&rh=p_36%3A80000-&page='+str(i+1)+'&__mk_pt_BR=%C3%85M%C3%85%C5%BD%C3%95%C3%91&qid=1633878660&rnid=16365456011&ref=sr_pg_2'"
   ]
  },
  {
   "cell_type": "code",
   "execution_count": 185,
   "metadata": {},
   "outputs": [],
   "source": [
    "dataset.to_csv('./data2700.csv',sep=';',index=False,encoding=('utf-8-sig'))"
   ]
  }
 ],
 "metadata": {
  "kernelspec": {
   "display_name": "Python 3",
   "language": "python",
   "name": "python3"
  },
  "language_info": {
   "codemirror_mode": {
    "name": "ipython",
    "version": 3
   },
   "file_extension": ".py",
   "mimetype": "text/x-python",
   "name": "python",
   "nbconvert_exporter": "python",
   "pygments_lexer": "ipython3",
   "version": "3.7.6"
  }
 },
 "nbformat": 4,
 "nbformat_minor": 4
}
